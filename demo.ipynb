{
 "cells": [
  {
   "cell_type": "code",
   "execution_count": 1,
   "metadata": {},
   "outputs": [],
   "source": [
    "import pandas as pd\n",
    "import os"
   ]
  },
  {
   "cell_type": "markdown",
   "metadata": {},
   "source": [
    "df = pd.DataFrame([[1,2],[1,2]])"
   ]
  },
  {
   "cell_type": "code",
   "execution_count": 9,
   "metadata": {},
   "outputs": [],
   "source": [
    "from datetime import datetime"
   ]
  },
  {
   "cell_type": "code",
   "execution_count": null,
   "metadata": {},
   "outputs": [],
   "source": []
  },
  {
   "cell_type": "code",
   "execution_count": 2,
   "metadata": {},
   "outputs": [],
   "source": [
    "from sensor.utils.main_utils import read_yaml_file"
   ]
  },
  {
   "cell_type": "code",
   "execution_count": 2,
   "metadata": {},
   "outputs": [],
   "source": [
    "file_path=\"/home/avnish/iNeuron_Private_Intelligence_Limited/industry_ready_project/live_class/sensor-fault-detection/config/schema.yaml\""
   ]
  },
  {
   "cell_type": "code",
   "execution_count": 4,
   "metadata": {},
   "outputs": [],
   "source": [
    "schema_config = read_yaml_file(file_path=file_path)"
   ]
  },
  {
   "cell_type": "code",
   "execution_count": 7,
   "metadata": {},
   "outputs": [
    {
     "data": {
      "text/plain": [
       "164"
      ]
     },
     "execution_count": 7,
     "metadata": {},
     "output_type": "execute_result"
    }
   ],
   "source": [
    "len(schema_config['columns'])==len(df.columns)"
   ]
  },
  {
   "cell_type": "code",
   "execution_count": 10,
   "metadata": {},
   "outputs": [],
   "source": [
    "from scipy.stats import ks_2samp"
   ]
  },
  {
   "cell_type": "code",
   "execution_count": 9,
   "metadata": {},
   "outputs": [],
   "source": [
    "import numpy as np"
   ]
  },
  {
   "cell_type": "code",
   "execution_count": 18,
   "metadata": {},
   "outputs": [],
   "source": [
    "d1 = np.arange(100,200)\n",
    "d2 = np.arange(10)"
   ]
  },
  {
   "cell_type": "code",
   "execution_count": 19,
   "metadata": {},
   "outputs": [
    {
     "data": {
      "text/plain": [
       "array([100, 101, 102, 103, 104, 105, 106, 107, 108, 109, 110, 111, 112,\n",
       "       113, 114, 115, 116, 117, 118, 119, 120, 121, 122, 123, 124, 125,\n",
       "       126, 127, 128, 129, 130, 131, 132, 133, 134, 135, 136, 137, 138,\n",
       "       139, 140, 141, 142, 143, 144, 145, 146, 147, 148, 149, 150, 151,\n",
       "       152, 153, 154, 155, 156, 157, 158, 159, 160, 161, 162, 163, 164,\n",
       "       165, 166, 167, 168, 169, 170, 171, 172, 173, 174, 175, 176, 177,\n",
       "       178, 179, 180, 181, 182, 183, 184, 185, 186, 187, 188, 189, 190,\n",
       "       191, 192, 193, 194, 195, 196, 197, 198, 199])"
      ]
     },
     "execution_count": 19,
     "metadata": {},
     "output_type": "execute_result"
    }
   ],
   "source": [
    "d1"
   ]
  },
  {
   "cell_type": "code",
   "execution_count": 20,
   "metadata": {},
   "outputs": [
    {
     "data": {
      "text/plain": [
       "array([0, 1, 2, 3, 4, 5, 6, 7, 8, 9])"
      ]
     },
     "execution_count": 20,
     "metadata": {},
     "output_type": "execute_result"
    }
   ],
   "source": [
    "d2"
   ]
  },
  {
   "cell_type": "code",
   "execution_count": 27,
   "metadata": {},
   "outputs": [
    {
     "data": {
      "text/plain": [
       "array([100, 101, 102, 103, 104, 105, 106, 107, 108, 109, 110, 111, 112,\n",
       "       113, 114, 115, 116, 117, 118, 119, 120, 121, 122, 123, 124, 125,\n",
       "       126, 127, 128, 129, 130, 131, 132, 133, 134, 135, 136, 137, 138,\n",
       "       139, 140, 141, 142, 143, 144, 145, 146, 147, 148, 149, 150, 151,\n",
       "       152, 153, 154, 155, 156, 157, 158, 159, 160, 161, 162, 163, 164,\n",
       "       165, 166, 167, 168, 169, 170, 171, 172, 173, 174, 175, 176, 177,\n",
       "       178, 179, 180, 181, 182, 183, 184, 185, 186, 187, 188, 189, 190,\n",
       "       191, 192, 193, 194, 195, 196, 197, 198, 199])"
      ]
     },
     "execution_count": 27,
     "metadata": {},
     "output_type": "execute_result"
    }
   ],
   "source": [
    "d1"
   ]
  },
  {
   "cell_type": "code",
   "execution_count": 28,
   "metadata": {},
   "outputs": [
    {
     "data": {
      "text/plain": [
       "array([0, 1, 2, 3, 4, 5, 6, 7, 8, 9])"
      ]
     },
     "execution_count": 28,
     "metadata": {},
     "output_type": "execute_result"
    }
   ],
   "source": [
    "d2"
   ]
  },
  {
   "cell_type": "code",
   "execution_count": 29,
   "metadata": {},
   "outputs": [],
   "source": [
    "test = ks_2samp(d1,d2)"
   ]
  },
  {
   "cell_type": "code",
   "execution_count": 30,
   "metadata": {},
   "outputs": [
    {
     "data": {
      "text/plain": [
       "0"
      ]
     },
     "execution_count": 30,
     "metadata": {},
     "output_type": "execute_result"
    }
   ],
   "source": [
    "round(test.pvalue)"
   ]
  },
  {
   "cell_type": "code",
   "execution_count": 1,
   "metadata": {},
   "outputs": [],
   "source": [
    "traing_file_path = \"./artifact/11_08_2022_23_08_46/data_ingestion/ingested/train.csv\""
   ]
  },
  {
   "cell_type": "code",
   "execution_count": 2,
   "metadata": {},
   "outputs": [],
   "source": [
    "test_file_path = \"artifact/11_08_2022_23_08_46/data_ingestion/ingested/test.csv\""
   ]
  },
  {
   "cell_type": "code",
   "execution_count": 3,
   "metadata": {},
   "outputs": [],
   "source": [
    "import pandas as pd"
   ]
  },
  {
   "cell_type": "code",
   "execution_count": 4,
   "metadata": {},
   "outputs": [],
   "source": [
    "train_df = pd.read_csv(traing_file_path)\n",
    "test_df = pd.read_csv(test_file_path)"
   ]
  },
  {
   "cell_type": "code",
   "execution_count": 5,
   "metadata": {},
   "outputs": [
    {
     "data": {
      "text/plain": [
       "Index(['class', 'aa_000', 'ab_000', 'ac_000', 'ad_000', 'ae_000', 'af_000',\n",
       "       'ag_000', 'ag_001', 'ag_002',\n",
       "       ...\n",
       "       'ee_002', 'ee_003', 'ee_004', 'ee_005', 'ee_006', 'ee_007', 'ee_008',\n",
       "       'ee_009', 'ef_000', 'eg_000'],\n",
       "      dtype='object', length=171)"
      ]
     },
     "execution_count": 5,
     "metadata": {},
     "output_type": "execute_result"
    }
   ],
   "source": [
    "train_df.columns"
   ]
  },
  {
   "cell_type": "code",
   "execution_count": 6,
   "metadata": {},
   "outputs": [
    {
     "data": {
      "text/plain": [
       "Index(['class', 'aa_000', 'ab_000', 'ac_000', 'ad_000', 'ae_000', 'af_000',\n",
       "       'ag_000', 'ag_001', 'ag_002',\n",
       "       ...\n",
       "       'ee_002', 'ee_003', 'ee_004', 'ee_005', 'ee_006', 'ee_007', 'ee_008',\n",
       "       'ee_009', 'ef_000', 'eg_000'],\n",
       "      dtype='object', length=171)"
      ]
     },
     "execution_count": 6,
     "metadata": {},
     "output_type": "execute_result"
    }
   ],
   "source": [
    "test_df.columns"
   ]
  },
  {
   "cell_type": "code",
   "execution_count": 7,
   "metadata": {},
   "outputs": [],
   "source": [
    "from sensor.utils.main_utils import write_yaml_file"
   ]
  },
  {
   "cell_type": "code",
   "execution_count": 8,
   "metadata": {},
   "outputs": [],
   "source": [
    "\n",
    "def get_drift_report(base_df,current_df,threshold=0.05):\n",
    "    report ={}\n",
    "    for column in base_df.columns:\n",
    "        d1 = base_df[column]\n",
    "        d2  = current_df[column]\n",
    "        is_same_dist = ks_2samp(d1,d2)\n",
    "        if threshold<=is_same_dist.pvalue:\n",
    "            is_found=False\n",
    "        else:\n",
    "            is_found = True \n",
    "        report.update({column:{\n",
    "            \"p_value\":float(is_same_dist.pvalue),\n",
    "            \"drift_status\":is_found\n",
    "            \n",
    "            }})\n",
    "    return report\n",
    "\n"
   ]
  },
  {
   "cell_type": "code",
   "execution_count": 11,
   "metadata": {},
   "outputs": [],
   "source": [
    "drift_report = get_drift_report(train_df,test_df)"
   ]
  },
  {
   "cell_type": "code",
   "execution_count": 12,
   "metadata": {},
   "outputs": [
    {
     "data": {
      "text/plain": [
       "{'class': {'p_value': 0.9991748491981378, 'drift_status': False},\n",
       " 'aa_000': {'p_value': 0.6842958417494523, 'drift_status': False},\n",
       " 'ab_000': {'p_value': 1.0, 'drift_status': False},\n",
       " 'ac_000': {'p_value': 0.46187470035376, 'drift_status': False},\n",
       " 'ad_000': {'p_value': 0.8003356336354227, 'drift_status': False},\n",
       " 'ae_000': {'p_value': 0.9999947765853102, 'drift_status': False},\n",
       " 'af_000': {'p_value': 0.9999975889466275, 'drift_status': False},\n",
       " 'ag_000': {'p_value': 0.998951316200958, 'drift_status': False},\n",
       " 'ag_001': {'p_value': 0.999904915980834, 'drift_status': False},\n",
       " 'ag_002': {'p_value': 0.7903488032262538, 'drift_status': False},\n",
       " 'ag_003': {'p_value': 0.6887311260596665, 'drift_status': False},\n",
       " 'ag_004': {'p_value': 0.39919893576231646, 'drift_status': False},\n",
       " 'ag_005': {'p_value': 0.552527110657778, 'drift_status': False},\n",
       " 'ag_006': {'p_value': 0.3491276285535705, 'drift_status': False},\n",
       " 'ag_007': {'p_value': 0.18804738551081024, 'drift_status': False},\n",
       " 'ag_008': {'p_value': 0.4386679046038887, 'drift_status': False},\n",
       " 'ag_009': {'p_value': 0.45318106031383076, 'drift_status': False},\n",
       " 'ah_000': {'p_value': 0.6528809646885769, 'drift_status': False},\n",
       " 'ai_000': {'p_value': 0.9598413023683663, 'drift_status': False},\n",
       " 'aj_000': {'p_value': 0.17594253079835376, 'drift_status': False},\n",
       " 'ak_000': {'p_value': 0.9987048357113639, 'drift_status': False},\n",
       " 'al_000': {'p_value': 0.2912540208861638, 'drift_status': False},\n",
       " 'am_0': {'p_value': 0.27095761360857207, 'drift_status': False},\n",
       " 'an_000': {'p_value': 0.6175097602631237, 'drift_status': False},\n",
       " 'ao_000': {'p_value': 0.6661801657778298, 'drift_status': False},\n",
       " 'ap_000': {'p_value': 0.23021701544741346, 'drift_status': False},\n",
       " 'aq_000': {'p_value': 0.4446985212376616, 'drift_status': False},\n",
       " 'ar_000': {'p_value': 0.9861942560683691, 'drift_status': False},\n",
       " 'as_000': {'p_value': 1.0, 'drift_status': False},\n",
       " 'at_000': {'p_value': 0.14014002487159982, 'drift_status': False},\n",
       " 'au_000': {'p_value': 1.0, 'drift_status': False},\n",
       " 'av_000': {'p_value': 0.3745898985765532, 'drift_status': False},\n",
       " 'ax_000': {'p_value': 0.8763568768895973, 'drift_status': False},\n",
       " 'ay_000': {'p_value': 0.9999744324255777, 'drift_status': False},\n",
       " 'ay_001': {'p_value': 0.9995029307368523, 'drift_status': False},\n",
       " 'ay_002': {'p_value': 0.9970365234749401, 'drift_status': False},\n",
       " 'ay_003': {'p_value': 0.9751486681119769, 'drift_status': False},\n",
       " 'ay_004': {'p_value': 0.9188911760701488, 'drift_status': False},\n",
       " 'ay_005': {'p_value': 0.6964114198414124, 'drift_status': False},\n",
       " 'ay_006': {'p_value': 0.44429673712123063, 'drift_status': False},\n",
       " 'ay_007': {'p_value': 0.28717324751673257, 'drift_status': False},\n",
       " 'ay_008': {'p_value': 0.7790435194919002, 'drift_status': False},\n",
       " 'ay_009': {'p_value': 0.9993534722624094, 'drift_status': False},\n",
       " 'az_000': {'p_value': 0.1729467195282759, 'drift_status': False},\n",
       " 'az_001': {'p_value': 0.4198841995632363, 'drift_status': False},\n",
       " 'az_002': {'p_value': 0.36806258964583494, 'drift_status': False},\n",
       " 'az_003': {'p_value': 0.8578936594146022, 'drift_status': False},\n",
       " 'az_004': {'p_value': 0.696979363489898, 'drift_status': False},\n",
       " 'az_005': {'p_value': 0.13022542674383575, 'drift_status': False},\n",
       " 'az_006': {'p_value': 0.48443471021259776, 'drift_status': False},\n",
       " 'az_007': {'p_value': 0.5562994532367413, 'drift_status': False},\n",
       " 'az_008': {'p_value': 0.9999914276497041, 'drift_status': False},\n",
       " 'az_009': {'p_value': 0.981166849845703, 'drift_status': False},\n",
       " 'ba_000': {'p_value': 0.4183405526705307, 'drift_status': False},\n",
       " 'ba_001': {'p_value': 0.5949355354775921, 'drift_status': False},\n",
       " 'ba_002': {'p_value': 0.36049436294165393, 'drift_status': False},\n",
       " 'ba_003': {'p_value': 0.2930574403191848, 'drift_status': False},\n",
       " 'ba_004': {'p_value': 0.2648779896852985, 'drift_status': False},\n",
       " 'ba_005': {'p_value': 0.19526647278652864, 'drift_status': False},\n",
       " 'ba_006': {'p_value': 0.12267675061249805, 'drift_status': False},\n",
       " 'ba_007': {'p_value': 0.09773356011607859, 'drift_status': False},\n",
       " 'ba_008': {'p_value': 0.8656967993858066, 'drift_status': False},\n",
       " 'ba_009': {'p_value': 0.7594163371675438, 'drift_status': False},\n",
       " 'bb_000': {'p_value': 0.37098216329541867, 'drift_status': False},\n",
       " 'bc_000': {'p_value': 0.3238949984461974, 'drift_status': False},\n",
       " 'bd_000': {'p_value': 0.7625117330573209, 'drift_status': False},\n",
       " 'be_000': {'p_value': 0.6480918841516807, 'drift_status': False},\n",
       " 'bf_000': {'p_value': 0.8106613993716096, 'drift_status': False},\n",
       " 'bg_000': {'p_value': 0.6971058285448937, 'drift_status': False},\n",
       " 'bh_000': {'p_value': 0.6569899662527852, 'drift_status': False},\n",
       " 'bi_000': {'p_value': 0.4180605260262825, 'drift_status': False},\n",
       " 'bj_000': {'p_value': 0.3273655757822499, 'drift_status': False},\n",
       " 'bk_000': {'p_value': 0.5879210367945756, 'drift_status': False},\n",
       " 'bl_000': {'p_value': 0.41188103547998944, 'drift_status': False},\n",
       " 'bm_000': {'p_value': 0.9911574032279794, 'drift_status': False},\n",
       " 'bn_000': {'p_value': 0.9867796331246679, 'drift_status': False},\n",
       " 'bo_000': {'p_value': 0.9053740561433186, 'drift_status': False},\n",
       " 'bp_000': {'p_value': 0.8769119838772933, 'drift_status': False},\n",
       " 'bq_000': {'p_value': 0.8631957313468777, 'drift_status': False},\n",
       " 'br_000': {'p_value': 0.9270703498043691, 'drift_status': False},\n",
       " 'bs_000': {'p_value': 0.20302170960022958, 'drift_status': False},\n",
       " 'bt_000': {'p_value': 0.6002667388579896, 'drift_status': False},\n",
       " 'bu_000': {'p_value': 0.40704321433819346, 'drift_status': False},\n",
       " 'bv_000': {'p_value': 0.40704321433819346, 'drift_status': False},\n",
       " 'bx_000': {'p_value': 0.5096893776362758, 'drift_status': False},\n",
       " 'by_000': {'p_value': 0.24525118114986266, 'drift_status': False},\n",
       " 'bz_000': {'p_value': 0.428149180844968, 'drift_status': False},\n",
       " 'ca_000': {'p_value': 0.37851367343283926, 'drift_status': False},\n",
       " 'cb_000': {'p_value': 0.38521194152813143, 'drift_status': False},\n",
       " 'cc_000': {'p_value': 0.5477834653340545, 'drift_status': False},\n",
       " 'cd_000': {'p_value': 1.0, 'drift_status': False},\n",
       " 'ce_000': {'p_value': 0.823712263943077, 'drift_status': False},\n",
       " 'cf_000': {'p_value': 0.8781774650847104, 'drift_status': False},\n",
       " 'cg_000': {'p_value': 0.2041242020560161, 'drift_status': False},\n",
       " 'ch_000': {'p_value': 0.9999999999999972, 'drift_status': False},\n",
       " 'ci_000': {'p_value': 0.5564554267212243, 'drift_status': False},\n",
       " 'cj_000': {'p_value': 0.2453963094126631, 'drift_status': False},\n",
       " 'ck_000': {'p_value': 0.48144299832861426, 'drift_status': False},\n",
       " 'cl_000': {'p_value': 0.9973722075601138, 'drift_status': False},\n",
       " 'cm_000': {'p_value': 0.30670034599939333, 'drift_status': False},\n",
       " 'cn_000': {'p_value': 0.9975618396382886, 'drift_status': False},\n",
       " 'cn_001': {'p_value': 0.526619397688955, 'drift_status': False},\n",
       " 'cn_002': {'p_value': 0.5241119706765408, 'drift_status': False},\n",
       " 'cn_003': {'p_value': 0.42949770122858066, 'drift_status': False},\n",
       " 'cn_004': {'p_value': 0.39209623757286705, 'drift_status': False},\n",
       " 'cn_005': {'p_value': 0.4609320733096448, 'drift_status': False},\n",
       " 'cn_006': {'p_value': 0.25389048485921994, 'drift_status': False},\n",
       " 'cn_007': {'p_value': 0.20446216874769996, 'drift_status': False},\n",
       " 'cn_008': {'p_value': 0.2380964882264407, 'drift_status': False},\n",
       " 'cn_009': {'p_value': 0.27705204367869596, 'drift_status': False},\n",
       " 'co_000': {'p_value': 0.12087591920081675, 'drift_status': False},\n",
       " 'cp_000': {'p_value': 0.2547422865346074, 'drift_status': False},\n",
       " 'cq_000': {'p_value': 0.40704321433819346, 'drift_status': False},\n",
       " 'cr_000': {'p_value': 1.0, 'drift_status': False},\n",
       " 'cs_000': {'p_value': 0.1853219032713045, 'drift_status': False},\n",
       " 'cs_001': {'p_value': 0.5264594810173147, 'drift_status': False},\n",
       " 'cs_002': {'p_value': 0.0401707934889719, 'drift_status': True},\n",
       " 'cs_003': {'p_value': 0.42095343054574974, 'drift_status': False},\n",
       " 'cs_004': {'p_value': 0.392197431398572, 'drift_status': False},\n",
       " 'cs_005': {'p_value': 0.31139221886054447, 'drift_status': False},\n",
       " 'cs_006': {'p_value': 0.3531801615690032, 'drift_status': False},\n",
       " 'cs_007': {'p_value': 0.4528720181111382, 'drift_status': False},\n",
       " 'cs_008': {'p_value': 0.8120894014933538, 'drift_status': False},\n",
       " 'cs_009': {'p_value': 0.9435812549939564, 'drift_status': False},\n",
       " 'ct_000': {'p_value': 0.8003378556534433, 'drift_status': False},\n",
       " 'cu_000': {'p_value': 0.8507428934239738, 'drift_status': False},\n",
       " 'cv_000': {'p_value': 0.9323227693268523, 'drift_status': False},\n",
       " 'cx_000': {'p_value': 0.9462384898113546, 'drift_status': False},\n",
       " 'cy_000': {'p_value': 0.9509063799604919, 'drift_status': False},\n",
       " 'cz_000': {'p_value': 0.5805560562880387, 'drift_status': False},\n",
       " 'da_000': {'p_value': 0.9999651122775091, 'drift_status': False},\n",
       " 'db_000': {'p_value': 0.8696406470484194, 'drift_status': False},\n",
       " 'dc_000': {'p_value': 0.799505174090424, 'drift_status': False},\n",
       " 'dd_000': {'p_value': 0.33391021582589475, 'drift_status': False},\n",
       " 'de_000': {'p_value': 0.04516756717096193, 'drift_status': True},\n",
       " 'df_000': {'p_value': 0.9320354582782439, 'drift_status': False},\n",
       " 'dg_000': {'p_value': 0.9136530182742931, 'drift_status': False},\n",
       " 'dh_000': {'p_value': 0.6311649659170137, 'drift_status': False},\n",
       " 'di_000': {'p_value': 0.143873360858651, 'drift_status': False},\n",
       " 'dj_000': {'p_value': 0.9999750066991008, 'drift_status': False},\n",
       " 'dk_000': {'p_value': 0.999889575955474, 'drift_status': False},\n",
       " 'dl_000': {'p_value': 0.9999868437337542, 'drift_status': False},\n",
       " 'dm_000': {'p_value': 0.9999868437337542, 'drift_status': False},\n",
       " 'dn_000': {'p_value': 0.49764613263027235, 'drift_status': False},\n",
       " 'do_000': {'p_value': 0.46042930609200505, 'drift_status': False},\n",
       " 'dp_000': {'p_value': 0.24545365265683583, 'drift_status': False},\n",
       " 'dq_000': {'p_value': 0.9801376948770133, 'drift_status': False},\n",
       " 'dr_000': {'p_value': 0.9893579495188728, 'drift_status': False},\n",
       " 'ds_000': {'p_value': 0.513648733683782, 'drift_status': False},\n",
       " 'dt_000': {'p_value': 0.7276254688720474, 'drift_status': False},\n",
       " 'du_000': {'p_value': 0.2513203472086656, 'drift_status': False},\n",
       " 'dv_000': {'p_value': 0.2818279148705646, 'drift_status': False},\n",
       " 'dx_000': {'p_value': 0.911179284832028, 'drift_status': False},\n",
       " 'dy_000': {'p_value': 0.7907579551997478, 'drift_status': False},\n",
       " 'dz_000': {'p_value': 0.9999992310991329, 'drift_status': False},\n",
       " 'ea_000': {'p_value': 0.9999997859402671, 'drift_status': False},\n",
       " 'eb_000': {'p_value': 0.78517810802854, 'drift_status': False},\n",
       " 'ec_00': {'p_value': 0.4651066634026464, 'drift_status': False},\n",
       " 'ed_000': {'p_value': 0.16210614289683878, 'drift_status': False},\n",
       " 'ee_000': {'p_value': 0.27872537576848755, 'drift_status': False},\n",
       " 'ee_001': {'p_value': 0.3054439289430231, 'drift_status': False},\n",
       " 'ee_002': {'p_value': 0.20592446924279761, 'drift_status': False},\n",
       " 'ee_003': {'p_value': 0.19679001988322287, 'drift_status': False},\n",
       " 'ee_004': {'p_value': 0.2900760651170219, 'drift_status': False},\n",
       " 'ee_005': {'p_value': 0.12233507028489188, 'drift_status': False},\n",
       " 'ee_006': {'p_value': 0.18592416364479158, 'drift_status': False},\n",
       " 'ee_007': {'p_value': 0.6501255951916771, 'drift_status': False},\n",
       " 'ee_008': {'p_value': 0.09399842888437371, 'drift_status': False},\n",
       " 'ee_009': {'p_value': 0.0712379999866729, 'drift_status': False},\n",
       " 'ef_000': {'p_value': 0.9999999658902491, 'drift_status': False},\n",
       " 'eg_000': {'p_value': 0.999994805768425, 'drift_status': False}}"
      ]
     },
     "execution_count": 12,
     "metadata": {},
     "output_type": "execute_result"
    }
   ],
   "source": [
    "drift_report"
   ]
  },
  {
   "cell_type": "code",
   "execution_count": 13,
   "metadata": {},
   "outputs": [],
   "source": [
    "write_yaml_file(file_path=os.path.join(os.getcwd(),\"report.yaml\"),content=drift_report,replace=True)"
   ]
  },
  {
   "cell_type": "code",
   "execution_count": 14,
   "metadata": {},
   "outputs": [
    {
     "data": {
      "text/plain": [
       "KstestResult(statistic=0.004833747812471256, pvalue=0.9991748491981378)"
      ]
     },
     "execution_count": 14,
     "metadata": {},
     "output_type": "execute_result"
    }
   ],
   "source": [
    "d1 = train_df['class']\n",
    "d2  = test_df['class']\n",
    "ks_2samp(d1,d2)"
   ]
  },
  {
   "cell_type": "code",
   "execution_count": 41,
   "metadata": {},
   "outputs": [
    {
     "data": {
      "text/plain": [
       "KstestResult(statistic=0.009896540089462558, pvalue=0.6183763526162667)"
      ]
     },
     "execution_count": 41,
     "metadata": {},
     "output_type": "execute_result"
    }
   ],
   "source": []
  },
  {
   "cell_type": "code",
   "execution_count": 1,
   "metadata": {},
   "outputs": [],
   "source": [
    "from sensor.ml.model.estimator import TargetValueMapping"
   ]
  },
  {
   "cell_type": "code",
   "execution_count": 3,
   "metadata": {},
   "outputs": [
    {
     "data": {
      "text/plain": [
       "{'neg': 0, 'pos': 1}"
      ]
     },
     "execution_count": 3,
     "metadata": {},
     "output_type": "execute_result"
    }
   ],
   "source": [
    "TargetValueMapping().to_dict()"
   ]
  },
  {
   "cell_type": "code",
   "execution_count": 4,
   "metadata": {},
   "outputs": [
    {
     "data": {
      "text/plain": [
       "{0: 'neg', 1: 'pos'}"
      ]
     },
     "execution_count": 4,
     "metadata": {},
     "output_type": "execute_result"
    }
   ],
   "source": [
    "TargetValueMapping().reverse_mapping()"
   ]
  },
  {
   "cell_type": "code",
   "execution_count": 9,
   "metadata": {},
   "outputs": [
    {
     "ename": "ImportError",
     "evalue": "cannot import name 'TargetValueMapping' from 'sensor.ml.model.estimator' (c:\\Users\\Akash\\Documents\\industry_ready_projects\\projects\\sensor-fault-detection\\sensor\\ml\\model\\estimator.py)",
     "output_type": "error",
     "traceback": [
      "\u001b[1;31m---------------------------------------------------------------------------\u001b[0m",
      "\u001b[1;31mImportError\u001b[0m                               Traceback (most recent call last)",
      "Cell \u001b[1;32mIn [9], line 1\u001b[0m\n\u001b[1;32m----> 1\u001b[0m \u001b[39mfrom\u001b[39;00m \u001b[39msensor\u001b[39;00m\u001b[39m.\u001b[39;00m\u001b[39mml\u001b[39;00m\u001b[39m.\u001b[39;00m\u001b[39mmodel\u001b[39;00m\u001b[39m.\u001b[39;00m\u001b[39mestimator\u001b[39;00m \u001b[39mimport\u001b[39;00m TargetValueMapping\n",
      "\u001b[1;31mImportError\u001b[0m: cannot import name 'TargetValueMapping' from 'sensor.ml.model.estimator' (c:\\Users\\Akash\\Documents\\industry_ready_projects\\projects\\sensor-fault-detection\\sensor\\ml\\model\\estimator.py)"
     ]
    }
   ],
   "source": [
    "from sensor.ml.model.estimator import TargetValueMapping"
   ]
  }
 ],
 "metadata": {
  "kernelspec": {
   "display_name": "Python 3.8.0 (conda)",
   "language": "python",
   "name": "python3"
  },
  "language_info": {
   "codemirror_mode": {
    "name": "ipython",
    "version": 3
   },
   "file_extension": ".py",
   "mimetype": "text/x-python",
   "name": "python",
   "nbconvert_exporter": "python",
   "pygments_lexer": "ipython3",
   "version": "3.8.0"
  },
  "orig_nbformat": 4,
  "vscode": {
   "interpreter": {
    "hash": "249cdf4faf2ce993ab192bff5b4d83d4c55ccb2212d0c18a3142403c2d6f8285"
   }
  }
 },
 "nbformat": 4,
 "nbformat_minor": 2
}
